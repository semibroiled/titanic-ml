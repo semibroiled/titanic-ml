{
    "cells": [
        {
            "cell_type": "markdown",
            "source": [
                "# Titanic Dataset\n",
                "#### Applying Machine Learning methods to predict the survivability status of passengers\n",
                "##### @author: Amitav Mostafa, Younes Eloiarm"
            ],
            "metadata": {}
        },
        {
            "cell_type": "markdown",
            "source": [
                "Load the relevant datasets"
            ],
            "metadata": {}
        },
        {
            "cell_type": "code",
            "execution_count": 1,
            "source": [
                "import pandas as pd # Import Pandas Library\n",
                "import os #import os library"
            ],
            "outputs": [],
            "metadata": {}
        },
        {
            "cell_type": "code",
            "execution_count": 5,
            "source": [
                "cwd = os.getcwd() # get current working directory\n",
                "\n",
                "path_data = cwd + '/titanic/' #set path to data files\n",
                "\n",
                "data_test = pd.read_csv(path_data+'test.csv')\n",
                "data_train = pd.read_csv(path_data+'train.csv') #load datasets"
            ],
            "outputs": [
                {
                    "output_type": "execute_result",
                    "data": {
                        "text/plain": [
                            "'/Users/amitavchrismostafa/Documents/Python/titanic-ml'"
                        ]
                    },
                    "metadata": {},
                    "execution_count": 5
                }
            ],
            "metadata": {}
        },
        {
            "cell_type": "code",
            "execution_count": 7,
            "source": [
                "data_train.head() # display training data"
            ],
            "outputs": [
                {
                    "output_type": "execute_result",
                    "data": {
                        "text/plain": [
                            "   PassengerId  Survived  Pclass  \\\n",
                            "0            1         0       3   \n",
                            "1            2         1       1   \n",
                            "2            3         1       3   \n",
                            "3            4         1       1   \n",
                            "4            5         0       3   \n",
                            "\n",
                            "                                                Name     Sex   Age  SibSp  \\\n",
                            "0                            Braund, Mr. Owen Harris    male  22.0      1   \n",
                            "1  Cumings, Mrs. John Bradley (Florence Briggs Th...  female  38.0      1   \n",
                            "2                             Heikkinen, Miss. Laina  female  26.0      0   \n",
                            "3       Futrelle, Mrs. Jacques Heath (Lily May Peel)  female  35.0      1   \n",
                            "4                           Allen, Mr. William Henry    male  35.0      0   \n",
                            "\n",
                            "   Parch            Ticket     Fare Cabin Embarked  \n",
                            "0      0         A/5 21171   7.2500   NaN        S  \n",
                            "1      0          PC 17599  71.2833   C85        C  \n",
                            "2      0  STON/O2. 3101282   7.9250   NaN        S  \n",
                            "3      0            113803  53.1000  C123        S  \n",
                            "4      0            373450   8.0500   NaN        S  "
                        ],
                        "text/html": [
                            "<div>\n",
                            "<style scoped>\n",
                            "    .dataframe tbody tr th:only-of-type {\n",
                            "        vertical-align: middle;\n",
                            "    }\n",
                            "\n",
                            "    .dataframe tbody tr th {\n",
                            "        vertical-align: top;\n",
                            "    }\n",
                            "\n",
                            "    .dataframe thead th {\n",
                            "        text-align: right;\n",
                            "    }\n",
                            "</style>\n",
                            "<table border=\"1\" class=\"dataframe\">\n",
                            "  <thead>\n",
                            "    <tr style=\"text-align: right;\">\n",
                            "      <th></th>\n",
                            "      <th>PassengerId</th>\n",
                            "      <th>Survived</th>\n",
                            "      <th>Pclass</th>\n",
                            "      <th>Name</th>\n",
                            "      <th>Sex</th>\n",
                            "      <th>Age</th>\n",
                            "      <th>SibSp</th>\n",
                            "      <th>Parch</th>\n",
                            "      <th>Ticket</th>\n",
                            "      <th>Fare</th>\n",
                            "      <th>Cabin</th>\n",
                            "      <th>Embarked</th>\n",
                            "    </tr>\n",
                            "  </thead>\n",
                            "  <tbody>\n",
                            "    <tr>\n",
                            "      <td>0</td>\n",
                            "      <td>1</td>\n",
                            "      <td>0</td>\n",
                            "      <td>3</td>\n",
                            "      <td>Braund, Mr. Owen Harris</td>\n",
                            "      <td>male</td>\n",
                            "      <td>22.0</td>\n",
                            "      <td>1</td>\n",
                            "      <td>0</td>\n",
                            "      <td>A/5 21171</td>\n",
                            "      <td>7.2500</td>\n",
                            "      <td>NaN</td>\n",
                            "      <td>S</td>\n",
                            "    </tr>\n",
                            "    <tr>\n",
                            "      <td>1</td>\n",
                            "      <td>2</td>\n",
                            "      <td>1</td>\n",
                            "      <td>1</td>\n",
                            "      <td>Cumings, Mrs. John Bradley (Florence Briggs Th...</td>\n",
                            "      <td>female</td>\n",
                            "      <td>38.0</td>\n",
                            "      <td>1</td>\n",
                            "      <td>0</td>\n",
                            "      <td>PC 17599</td>\n",
                            "      <td>71.2833</td>\n",
                            "      <td>C85</td>\n",
                            "      <td>C</td>\n",
                            "    </tr>\n",
                            "    <tr>\n",
                            "      <td>2</td>\n",
                            "      <td>3</td>\n",
                            "      <td>1</td>\n",
                            "      <td>3</td>\n",
                            "      <td>Heikkinen, Miss. Laina</td>\n",
                            "      <td>female</td>\n",
                            "      <td>26.0</td>\n",
                            "      <td>0</td>\n",
                            "      <td>0</td>\n",
                            "      <td>STON/O2. 3101282</td>\n",
                            "      <td>7.9250</td>\n",
                            "      <td>NaN</td>\n",
                            "      <td>S</td>\n",
                            "    </tr>\n",
                            "    <tr>\n",
                            "      <td>3</td>\n",
                            "      <td>4</td>\n",
                            "      <td>1</td>\n",
                            "      <td>1</td>\n",
                            "      <td>Futrelle, Mrs. Jacques Heath (Lily May Peel)</td>\n",
                            "      <td>female</td>\n",
                            "      <td>35.0</td>\n",
                            "      <td>1</td>\n",
                            "      <td>0</td>\n",
                            "      <td>113803</td>\n",
                            "      <td>53.1000</td>\n",
                            "      <td>C123</td>\n",
                            "      <td>S</td>\n",
                            "    </tr>\n",
                            "    <tr>\n",
                            "      <td>4</td>\n",
                            "      <td>5</td>\n",
                            "      <td>0</td>\n",
                            "      <td>3</td>\n",
                            "      <td>Allen, Mr. William Henry</td>\n",
                            "      <td>male</td>\n",
                            "      <td>35.0</td>\n",
                            "      <td>0</td>\n",
                            "      <td>0</td>\n",
                            "      <td>373450</td>\n",
                            "      <td>8.0500</td>\n",
                            "      <td>NaN</td>\n",
                            "      <td>S</td>\n",
                            "    </tr>\n",
                            "  </tbody>\n",
                            "</table>\n",
                            "</div>"
                        ]
                    },
                    "metadata": {},
                    "execution_count": 7
                }
            ],
            "metadata": {}
        },
        {
            "cell_type": "code",
            "execution_count": 9,
            "source": [
                "data_test.head() # display testing data"
            ],
            "outputs": [
                {
                    "output_type": "execute_result",
                    "data": {
                        "text/plain": [
                            "   PassengerId  Pclass                                          Name     Sex  \\\n",
                            "0          892       3                              Kelly, Mr. James    male   \n",
                            "1          893       3              Wilkes, Mrs. James (Ellen Needs)  female   \n",
                            "2          894       2                     Myles, Mr. Thomas Francis    male   \n",
                            "3          895       3                              Wirz, Mr. Albert    male   \n",
                            "4          896       3  Hirvonen, Mrs. Alexander (Helga E Lindqvist)  female   \n",
                            "\n",
                            "    Age  SibSp  Parch   Ticket     Fare Cabin Embarked  \n",
                            "0  34.5      0      0   330911   7.8292   NaN        Q  \n",
                            "1  47.0      1      0   363272   7.0000   NaN        S  \n",
                            "2  62.0      0      0   240276   9.6875   NaN        Q  \n",
                            "3  27.0      0      0   315154   8.6625   NaN        S  \n",
                            "4  22.0      1      1  3101298  12.2875   NaN        S  "
                        ],
                        "text/html": [
                            "<div>\n",
                            "<style scoped>\n",
                            "    .dataframe tbody tr th:only-of-type {\n",
                            "        vertical-align: middle;\n",
                            "    }\n",
                            "\n",
                            "    .dataframe tbody tr th {\n",
                            "        vertical-align: top;\n",
                            "    }\n",
                            "\n",
                            "    .dataframe thead th {\n",
                            "        text-align: right;\n",
                            "    }\n",
                            "</style>\n",
                            "<table border=\"1\" class=\"dataframe\">\n",
                            "  <thead>\n",
                            "    <tr style=\"text-align: right;\">\n",
                            "      <th></th>\n",
                            "      <th>PassengerId</th>\n",
                            "      <th>Pclass</th>\n",
                            "      <th>Name</th>\n",
                            "      <th>Sex</th>\n",
                            "      <th>Age</th>\n",
                            "      <th>SibSp</th>\n",
                            "      <th>Parch</th>\n",
                            "      <th>Ticket</th>\n",
                            "      <th>Fare</th>\n",
                            "      <th>Cabin</th>\n",
                            "      <th>Embarked</th>\n",
                            "    </tr>\n",
                            "  </thead>\n",
                            "  <tbody>\n",
                            "    <tr>\n",
                            "      <td>0</td>\n",
                            "      <td>892</td>\n",
                            "      <td>3</td>\n",
                            "      <td>Kelly, Mr. James</td>\n",
                            "      <td>male</td>\n",
                            "      <td>34.5</td>\n",
                            "      <td>0</td>\n",
                            "      <td>0</td>\n",
                            "      <td>330911</td>\n",
                            "      <td>7.8292</td>\n",
                            "      <td>NaN</td>\n",
                            "      <td>Q</td>\n",
                            "    </tr>\n",
                            "    <tr>\n",
                            "      <td>1</td>\n",
                            "      <td>893</td>\n",
                            "      <td>3</td>\n",
                            "      <td>Wilkes, Mrs. James (Ellen Needs)</td>\n",
                            "      <td>female</td>\n",
                            "      <td>47.0</td>\n",
                            "      <td>1</td>\n",
                            "      <td>0</td>\n",
                            "      <td>363272</td>\n",
                            "      <td>7.0000</td>\n",
                            "      <td>NaN</td>\n",
                            "      <td>S</td>\n",
                            "    </tr>\n",
                            "    <tr>\n",
                            "      <td>2</td>\n",
                            "      <td>894</td>\n",
                            "      <td>2</td>\n",
                            "      <td>Myles, Mr. Thomas Francis</td>\n",
                            "      <td>male</td>\n",
                            "      <td>62.0</td>\n",
                            "      <td>0</td>\n",
                            "      <td>0</td>\n",
                            "      <td>240276</td>\n",
                            "      <td>9.6875</td>\n",
                            "      <td>NaN</td>\n",
                            "      <td>Q</td>\n",
                            "    </tr>\n",
                            "    <tr>\n",
                            "      <td>3</td>\n",
                            "      <td>895</td>\n",
                            "      <td>3</td>\n",
                            "      <td>Wirz, Mr. Albert</td>\n",
                            "      <td>male</td>\n",
                            "      <td>27.0</td>\n",
                            "      <td>0</td>\n",
                            "      <td>0</td>\n",
                            "      <td>315154</td>\n",
                            "      <td>8.6625</td>\n",
                            "      <td>NaN</td>\n",
                            "      <td>S</td>\n",
                            "    </tr>\n",
                            "    <tr>\n",
                            "      <td>4</td>\n",
                            "      <td>896</td>\n",
                            "      <td>3</td>\n",
                            "      <td>Hirvonen, Mrs. Alexander (Helga E Lindqvist)</td>\n",
                            "      <td>female</td>\n",
                            "      <td>22.0</td>\n",
                            "      <td>1</td>\n",
                            "      <td>1</td>\n",
                            "      <td>3101298</td>\n",
                            "      <td>12.2875</td>\n",
                            "      <td>NaN</td>\n",
                            "      <td>S</td>\n",
                            "    </tr>\n",
                            "  </tbody>\n",
                            "</table>\n",
                            "</div>"
                        ]
                    },
                    "metadata": {},
                    "execution_count": 9
                }
            ],
            "metadata": {}
        },
        {
            "cell_type": "markdown",
            "source": [
                "Clean up and process the datasets"
            ],
            "metadata": {}
        },
        {
            "cell_type": "code",
            "execution_count": 13,
            "source": [
                "print(data_test.isnull().any()) #Inspect existence of NaNs in the datasets\n",
                "print(data_train.isnull().any())"
            ],
            "outputs": [
                {
                    "output_type": "stream",
                    "name": "stdout",
                    "text": [
                        "PassengerId    False\n",
                        "Pclass         False\n",
                        "Name           False\n",
                        "Sex            False\n",
                        "Age             True\n",
                        "SibSp          False\n",
                        "Parch          False\n",
                        "Ticket         False\n",
                        "Fare            True\n",
                        "Cabin           True\n",
                        "Embarked       False\n",
                        "dtype: bool\n",
                        "PassengerId    False\n",
                        "Survived       False\n",
                        "Pclass         False\n",
                        "Name           False\n",
                        "Sex            False\n",
                        "Age             True\n",
                        "SibSp          False\n",
                        "Parch          False\n",
                        "Ticket         False\n",
                        "Fare           False\n",
                        "Cabin           True\n",
                        "Embarked        True\n",
                        "dtype: bool\n"
                    ]
                }
            ],
            "metadata": {}
        },
        {
            "cell_type": "markdown",
            "source": [
                "As we can observe above, our target column 'Survived' has no missing values "
            ],
            "metadata": {}
        },
        {
            "cell_type": "markdown",
            "source": [],
            "metadata": {}
        }
    ],
    "metadata": {
        "orig_nbformat": 4,
        "language_info": {
            "name": "python",
            "version": "3.7.4",
            "mimetype": "text/x-python",
            "codemirror_mode": {
                "name": "ipython",
                "version": 3
            },
            "pygments_lexer": "ipython3",
            "nbconvert_exporter": "python",
            "file_extension": ".py"
        },
        "kernelspec": {
            "name": "python3",
            "display_name": "Python 3.7.4 64-bit ('base': conda)"
        },
        "interpreter": {
            "hash": "5bb92a85c9a1f15da6b689aacf75061d89825faba8bdf21749792174943e74b5"
        }
    },
    "nbformat": 4,
    "nbformat_minor": 2
}